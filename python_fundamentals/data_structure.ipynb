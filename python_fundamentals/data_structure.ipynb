{
 "cells": [
  {
   "cell_type": "markdown",
   "id": "0fd18ddb-7f5c-407f-8f69-6875281eecc3",
   "metadata": {},
   "source": [
    "## Immutability\n",
    "\n",
    "Immutable types: \n",
    "* numbers\n",
    "* string\n",
    "* tuple\n",
    "\n",
    "Mutable types:\n",
    "* list\n",
    "* dict\n",
    "* set"
   ]
  },
  {
   "cell_type": "markdown",
   "id": "0dc951a1-c52c-4199-9b38-ce9b6628ea36",
   "metadata": {},
   "source": [
    "# String"
   ]
  },
  {
   "cell_type": "code",
   "execution_count": 1,
   "id": "03cb488d-1fe5-49f0-a795-89d7494fef4b",
   "metadata": {},
   "outputs": [
    {
     "name": "stdout",
     "output_type": "stream",
     "text": [
      "s1+s2=Yo World!, len(s2)=7\n",
      "S1,S2,S3,S4,S5\n",
      "hello hello hello \n",
      "text[1:3] = yt, text[-1] = n, text[::-1] = nohtyP, text[::-2] = nhy, text[::2] = Pto\n",
      "text.lower()=  nice try  , text.upper()=  NICE TRY  \n",
      "text.strip()=Nice Try\n",
      "text.replace('Try', 'Dog') =   Nice Dog  \n",
      "text.find('a')=1, text.count('a')=3, 'na' in text = True\n",
      "number = 100.0(<class 'float'>), str(number) = 100.0(<class 'str'>)\n"
     ]
    }
   ],
   "source": [
    "# concat\n",
    "s1 = \"Yo\"\n",
    "s2 = \" World!\"\n",
    "print (f\"s1+s2={s1+s2}, len(s2)={len(s2)}\")\n",
    "\n",
    "# joint\n",
    "ss = [f\"S{i}\" for i in range(1,6)]\n",
    "print(\",\".join(ss))\n",
    "print(\"hello \" * 3)\n",
    "\n",
    "# accessing\n",
    "text = \"Python\"\n",
    "print(f\"text[1:3] = {text[1:3]}, text[-1] = {text[-1]}, text[::-1] = {text[::-1]}, text[::-2] = {text[::-2]}, text[::2] = {text[::2]}\")\n",
    "\n",
    "# helpers\n",
    "text = \"  Nice Try  \"\n",
    "print(f\"text.lower()={text.lower()}, text.upper()={text.upper()}\")\n",
    "print(f\"text.strip()={text.strip()}\")\n",
    "print(f\"text.replace('Try', 'Dog') = {text.replace('Try', 'Dog')}\")\n",
    "text = \"banana\"\n",
    "print(f\"text.find('a')={text.find('a')}, text.count('a')={text.count('a')}, 'na' in text = {'na' in text}\")\n",
    "number = 1e2\n",
    "print(f\"number = {number}({type(number)}), str(number) = {str(number)}({type(str(number))})\")"
   ]
  },
  {
   "cell_type": "markdown",
   "id": "c6c0b112-6536-49fc-8961-2281b87a90bb",
   "metadata": {},
   "source": [
    "# List (Dynamic Array)"
   ]
  },
  {
   "cell_type": "code",
   "execution_count": 47,
   "id": "ce931056-bd5d-4f3c-8d02-6d97cfe3060f",
   "metadata": {},
   "outputs": [
    {
     "name": "stdout",
     "output_type": "stream",
     "text": [
      "arr = [1, 2, 3, 4, 5] (<class 'list'>)\n",
      "arr = [1, 2, 3, 4, 5, 6]\n",
      "arr = [1, 2, 80, 3, 4, 5, 6]\n",
      "arr = [1, 2, 3, 4, 5, 6]\n",
      "arr = [1, 2, 3, 4, 5]\n",
      "arr = [2, 3, 4, 5]\n",
      "arr = [31, 11, 42, 13, 54]\n",
      "arr = [11, 13, 31, 42, 54]\n",
      "arr = [54, 42, 31, 13, 11]\n",
      "arr = [31, 11, 42, 13, 54]\n",
      "arr = [13, 42, 54, 31, 11]\n",
      "arr = ['apple', 'banana', 'pear'], new_arr=['banana', 'apple', 'pear']\n",
      "arr = [31, 11, 42, 13, 54], evens=[42, 54]\n",
      "arr = [31, 11, 42, 13, 54], min=11, max=54, sum=151, len=5\n",
      "arr = [11, 13, 31, 42, 54]\n",
      "arr = [31, 11, 42, 13, 54]\n",
      "arr[0] = 31, arr[1] = 11, arr[2] = 42, arr[3] = 13, arr[4] = 54, "
     ]
    }
   ],
   "source": [
    "arr = [i for i in range(1,6)]\n",
    "print(f\"arr = {arr} ({type(arr)})\")\n",
    "\n",
    "# add, remove, insert elements\n",
    "arr.append(6)\n",
    "print(f\"arr = {arr}\")\n",
    "\n",
    "arr.insert(2, 80) # insert 80 at index 2\n",
    "print(f\"arr = {arr}\")\n",
    "\n",
    "arr.remove(80) # remove by value\n",
    "print(f\"arr = {arr}\")\n",
    "\n",
    "arr.pop() # remove the last element\n",
    "print(f\"arr = {arr}\")\n",
    "\n",
    "arr.pop(0) # remove the i-th element\n",
    "print(f\"arr = {arr}\")\n",
    "\n",
    "# sorting\n",
    "arr = [31, 11, 42, 13, 54]; print(f\"arr = {arr}\")\n",
    "arr.sort(reverse=False)\n",
    "print(f\"arr = {arr}\")\n",
    "arr.sort(reverse=True)\n",
    "print(f\"arr = {arr}\")\n",
    "\n",
    "# custom sorting\n",
    "arr = [31, 11, 42, 13, 54]; print(f\"arr = {arr}\")\n",
    "def mod_four(item):\n",
    "    return item%4\n",
    "arr.sort(key=mod_four) # other common key such as len() for string sorting\n",
    "print(f\"arr = {arr}\")\n",
    "\n",
    "# sorting return as a new list\n",
    "arr = [\"apple\", \"banana\", \"pear\"]\n",
    "new_arr = sorted(arr, key=len, reverse=True)\n",
    "print(f\"arr = {arr}, new_arr={new_arr}\")\n",
    "\n",
    "# create array with filter\n",
    "arr = [31, 11, 42, 13, 54]\n",
    "evens = [i for i in arr if i%2 == 0]\n",
    "print(f\"arr = {arr}, evens={evens}\")\n",
    "\n",
    "# statistics\n",
    "arr = [31, 11, 42, 13, 54]\n",
    "print(f\"arr = {arr}, min={min(arr)}, max={max(arr)}, sum={sum(arr)}, len={len(arr)}\")\n",
    "\n",
    "# about copy\n",
    "arr = [31, 11, 42, 13, 54]\n",
    "shallow_copy = arr\n",
    "shallow_copy.sort()\n",
    "print(f\"arr = {arr}\")\n",
    "\n",
    "import copy\n",
    "arr = [31, 11, 42, 13, 54]\n",
    "deep_copy = copy.deepcopy(arr)\n",
    "deep_copy.sort()\n",
    "print(f\"arr = {arr}\")\n",
    "\n",
    "# traversal\n",
    "arr = [31, 11, 42, 13, 54]\n",
    "for i, val in enumerate(arr):\n",
    "    print(f\"arr[{i}] = {val}\", end=\", \")"
   ]
  },
  {
   "cell_type": "markdown",
   "id": "e362d96f-0d1b-402d-a88f-1562f7d87b18",
   "metadata": {},
   "source": [
    "# Tuple/Pair/Triple"
   ]
  },
  {
   "cell_type": "code",
   "execution_count": 62,
   "id": "860f5fe6-3bc6-4950-8f7d-c5484ee889d3",
   "metadata": {},
   "outputs": [
    {
     "name": "stdout",
     "output_type": "stream",
     "text": [
      "pair[0]+triple[1]=5\n",
      "first + third = 8\n",
      "first quadrant\n",
      "{(1, 2), (1, 3)}\n",
      "[(2, 1), (3, 1), (3, 4)]\n",
      "[(3, 4), (2, 1), (3, 1)]\n",
      "[('Alice', 12), ('Bob', 13), ('Chris', 18)]\n",
      "Alice: 12 years old\n",
      "Bob: 13 years old\n",
      "Chris: 18 years old\n"
     ]
    }
   ],
   "source": [
    "# basics\n",
    "pair = (1, 2)\n",
    "triple = (3, 4, 5)\n",
    "print(f\"pair[0]+triple[1]={pair[0]+triple[1]}\")\n",
    "\n",
    "first, _, third = triple\n",
    "print(f\"first + third = {first + third}\")\n",
    "\n",
    "# since tuple is immutable and hashable, it can be used as hash map's key\n",
    "coordinates = {\n",
    "    (0,0): \"origin\",\n",
    "    (0,1): \"first quadrant\"\n",
    "}\n",
    "print(coordinates[(0,1)])\n",
    "\n",
    "# tuples can be stored in set as well\n",
    "unique_pairs = set()\n",
    "unique_pairs.add((1,2)); unique_pairs.add((1,3)); unique_pairs.add((1,2))\n",
    "print(unique_pairs)\n",
    "\n",
    "# default sort behavior: compare first, then the second\n",
    "arr = [(2, 1), (3, 4), (3, 1)]\n",
    "print(sorted(arr, reverse=False))\n",
    "print(sorted(arr, key=lambda x: x[0]-x[1]))\n",
    "\n",
    "# zipping\n",
    "age = [12, 13, 18]\n",
    "name = [\"Alice\", \"Bob\", \"Chris\"]\n",
    "print(list(zip(name, age)))\n",
    "for n, a in zip(name, age):\n",
    "    print(f\"{n}: {a} years old\")"
   ]
  },
  {
   "cell_type": "markdown",
   "id": "09aef58f-9227-4523-a3ad-375f6564e585",
   "metadata": {},
   "source": [
    "# Stack\n",
    "Python doesn't have a dedicated type for stack, normally we use list() with append() and pop() to simulate a stack."
   ]
  },
  {
   "cell_type": "code",
   "execution_count": 64,
   "id": "1d280e77-5e17-49a2-a421-477f9b748927",
   "metadata": {},
   "outputs": [
    {
     "name": "stdout",
     "output_type": "stream",
     "text": [
      "20\n",
      "1\n",
      "False\n"
     ]
    }
   ],
   "source": [
    "class Stack:\n",
    "    def __init__(self):\n",
    "        self.data = []\n",
    "    def is_empty(self):\n",
    "        return len(self.data)==0\n",
    "    def push(self, val):\n",
    "        self.data.append(val)\n",
    "    def pop(self):\n",
    "        if self.is_empty():\n",
    "            return None\n",
    "        else:\n",
    "            return self.data.pop()\n",
    "    def top(self):\n",
    "         if self.is_empty():\n",
    "             return None\n",
    "         else:\n",
    "             return self.data[-1]\n",
    "    def size(self):\n",
    "        return len(self.data)\n",
    "\n",
    "s = Stack()\n",
    "s.push(10)\n",
    "s.push(20)\n",
    "print(s.top())  # Output: 20\n",
    "s.pop()\n",
    "print(s.size())  # Output: 1\n",
    "print(s.is_empty())  # Output: False"
   ]
  },
  {
   "cell_type": "markdown",
   "id": "9181178a-f05a-44f0-aa25-d56a6ce123ac",
   "metadata": {},
   "source": [
    "# Set"
   ]
  },
  {
   "cell_type": "code",
   "execution_count": 78,
   "id": "dfe1ee4f-9ed6-4b01-8f16-ae8e2a2c746a",
   "metadata": {},
   "outputs": [
    {
     "name": "stdout",
     "output_type": "stream",
     "text": [
      "{1, 2, 3}\n",
      "{1, 2, 3, 4}\n",
      "{1, 2, 3, 100}\n",
      "key to be removed doesn't exist in the set\n",
      "2 in s: True\n",
      "{1, 2, 3, 4, 5}\n",
      "{3}\n",
      "{1, 2}\n",
      "{1, 2, 4, 5}\n",
      "True\n"
     ]
    }
   ],
   "source": [
    "# declaration\n",
    "s = {1,2,3,3}; print(s)\n",
    "s = set([1,2,3,4,4]); print(s)\n",
    "\n",
    "# add, remove\n",
    "s = {1,2,3}\n",
    "s.add(100); print(s)\n",
    "\n",
    "try:\n",
    "    s.remove(99)\n",
    "except:\n",
    "    print(\"key to be removed doesn't exist in the set\")\n",
    "\n",
    "s.discard(99) # will not raise error if not existing\n",
    "\n",
    "# check membership\n",
    "s = {1,2,3}\n",
    "print(f\"2 in s: {2 in s}\")\n",
    "\n",
    "# set operation\n",
    "set1 = {1, 2, 3}\n",
    "set2 = {3, 4, 5}\n",
    "print(set1 | set2) # union\n",
    "print(set1 & set2) # intersection\n",
    "print(set1 - set2) # difference\n",
    "print(set1 ^ set2) # symmetric difference\n",
    "set1 = {1,2}\n",
    "set2 = {1,2,3}\n",
    "print(set1 <= set2) # is subset"
   ]
  },
  {
   "cell_type": "markdown",
   "id": "4b9e8f36-821d-41ef-8331-5e2b31afa8fd",
   "metadata": {},
   "source": [
    "# Linked List\n",
    "Python doesn't have built-in data type for linked list."
   ]
  },
  {
   "cell_type": "code",
   "execution_count": 87,
   "id": "72bf7589-0dcd-4735-aac1-d651b6ce05c4",
   "metadata": {},
   "outputs": [
    {
     "name": "stdout",
     "output_type": "stream",
     "text": [
      "None-2-3-5-6-None\n",
      "None-1-2-3-5-6-8-None\n",
      "None-8-6-5-3-2-1-None\n",
      "None-6-3-2-None\n"
     ]
    }
   ],
   "source": [
    "class Node:\n",
    "    def __init__(self, data=None):\n",
    "        self.data = data\n",
    "        self.next = None\n",
    "        self.prev = None\n",
    "\n",
    "class DoublyLinedList:\n",
    "    def __init__(self, array = None):\n",
    "        self.head = None\n",
    "        self.tail = None\n",
    "        if array:\n",
    "            for a in array:\n",
    "                self.append(a)\n",
    "\n",
    "    def append(self, data):\n",
    "        new_node = Node(data)\n",
    "        if self.head is None:\n",
    "            self.head = new_node\n",
    "            self.tail = new_node\n",
    "        else:\n",
    "            self.tail.next = new_node\n",
    "            new_node.prev = self.tail\n",
    "            self.tail = new_node\n",
    "\n",
    "    def prepend(self, data):\n",
    "        new_node = Node(data)\n",
    "        if self.head is None:\n",
    "            self.head = self.tail = new_node\n",
    "        else:\n",
    "            self.head.prev = new_node\n",
    "            new_node.next = self.head\n",
    "            self.head = new_node\n",
    "\n",
    "    def delete_value(self, data):\n",
    "        tmp = self.head\n",
    "        while tmp != None:\n",
    "            if tmp.data == data:\n",
    "                if tmp is self.head:\n",
    "                    self.head = tmp.next\n",
    "                if tmp is self.tail:\n",
    "                    self.tail = tmp.prev\n",
    "                if tmp.next:\n",
    "                    tmp.next.prev = tmp.prev\n",
    "                if tmp.prev:\n",
    "                    tmp.prev.next = tmp.next\n",
    "                tmp = None\n",
    "                return\n",
    "            else:\n",
    "                tmp = tmp.next\n",
    "\n",
    "    def display(self):\n",
    "        it = self.head\n",
    "        print(\"None-\", end=\"\")\n",
    "        while it != None:\n",
    "            print(f\"{it.data}\", end=\"-\")\n",
    "            it = it.next\n",
    "        print(\"None\")\n",
    "\n",
    "    def reverse(self):\n",
    "        it = self.head\n",
    "        while it != None:\n",
    "            tmp = it.next\n",
    "            it.next = it.prev\n",
    "            it.prev = tmp\n",
    "            it = tmp\n",
    "        tmp = self.head\n",
    "        self.head = self.tail\n",
    "        self.tail = tmp\n",
    "\n",
    "ll = DoublyLinedList([2,3,5,6])\n",
    "ll.display()\n",
    "\n",
    "ll.append(8); ll.prepend(1); ll.display()\n",
    "\n",
    "ll.reverse(); ll.display()\n",
    "\n",
    "ll.delete_value(8); ll.delete_value(1); ll.delete_value(5); ll.display();"
   ]
  },
  {
   "cell_type": "markdown",
   "id": "913ade22-13a7-4721-a4f8-f4a2b593480d",
   "metadata": {},
   "source": [
    "# Queue"
   ]
  },
  {
   "cell_type": "markdown",
   "id": "4ba42e0c-7512-468b-94cb-e3bc4aa2044b",
   "metadata": {},
   "source": [
    "`collections.deque` is a double-ended queue (deque) in Python. It provides constant time O(1) complexity for append and pop operations at both ends, making it well-suited for implementing stacks, queues, and other operations where fast insertion and removal at both ends is necessary."
   ]
  },
  {
   "cell_type": "code",
   "execution_count": 89,
   "id": "3576a150-2fa8-4dad-870d-fd00d15f2c29",
   "metadata": {},
   "outputs": [
    {
     "name": "stdout",
     "output_type": "stream",
     "text": [
      "deque([1, 2, 3, 4])\n",
      "deque([2, 3, 4])\n"
     ]
    }
   ],
   "source": [
    "from collections import deque\n",
    "\n",
    "# create\n",
    "dq = deque()\n",
    "dq = deque([1,2,3])\n",
    "\n",
    "dq.append(4)\n",
    "print(dq)\n",
    "popped = dq.popleft()\n",
    "print(dq)"
   ]
  },
  {
   "cell_type": "markdown",
   "id": "9957d99e-d0eb-489e-97c0-ca9d2e950425",
   "metadata": {},
   "source": [
    "# Hash Table / Dict"
   ]
  },
  {
   "cell_type": "code",
   "execution_count": 94,
   "id": "f008c7ef-ab61-4fb3-9b41-b6efa28329c2",
   "metadata": {},
   "outputs": [
    {
     "name": "stdout",
     "output_type": "stream",
     "text": [
      "{'name': 'Alice', 'city': 'Taipei', 'occupassion': 'homeless'}\n",
      "name\n",
      "city\n",
      "occupassion\n",
      "Alice\n",
      "Taipei\n",
      "homeless\n",
      "name: Alice\n",
      "city: Taipei\n",
      "occupassion: homeless\n"
     ]
    }
   ],
   "source": [
    "data = {\n",
    "    'name': 'Alice',\n",
    "    'age': 25,\n",
    "    'city': 'Taipei'\n",
    "}\n",
    "\n",
    "data['occupassion'] = 'homeless'\n",
    "del data['age']\n",
    "print(data)\n",
    "\n",
    "for key in data: # or data.keys()\n",
    "    print(key)\n",
    "\n",
    "for val in data.values():\n",
    "    print(val)\n",
    "\n",
    "for key, val in data.items():\n",
    "    print(f\"{key}: {val}\")"
   ]
  },
  {
   "cell_type": "markdown",
   "id": "0b3f5248-1667-4af8-ab46-f2e74b644a77",
   "metadata": {},
   "source": [
    "# Tree"
   ]
  },
  {
   "cell_type": "markdown",
   "id": "21fd9a9f-7171-42b0-8c33-be8e416ff3d7",
   "metadata": {},
   "source": [
    "## Binary Tree"
   ]
  },
  {
   "cell_type": "code",
   "execution_count": 118,
   "id": "edfed7bd-a0d5-4382-baef-5bd66be5152c",
   "metadata": {},
   "outputs": [
    {
     "name": "stdout",
     "output_type": "stream",
     "text": [
      "1,2,3,4,5,\n",
      "1,2,4,5,3,\n",
      "4,2,5,1,3,\n",
      "4,5,2,3,1,\n",
      "Root:1\n",
      "    L--2\n",
      "        L--4\n",
      "        R--5\n",
      "    R--3\n"
     ]
    }
   ],
   "source": [
    "from collections import deque\n",
    "\n",
    "class Node:\n",
    "    def __init__(self, data):\n",
    "        self.data = data\n",
    "        self.right = None\n",
    "        self.left = None\n",
    "\n",
    "class BinaryTree:\n",
    "    def __init__(self, root_data=None):\n",
    "        if root_data:\n",
    "            self.root = Node(root_data)\n",
    "\n",
    "    def traverse(self, mode='bfs'):\n",
    "        if mode == 'inorder':\n",
    "            self._inorder(self.root)\n",
    "            print()\n",
    "        elif mode == 'postorder':\n",
    "            self._postorder(self.root)\n",
    "            print()\n",
    "        elif mode == 'preorder':\n",
    "            self._preorder(self.root)\n",
    "            print()\n",
    "        else:\n",
    "            # BFS\n",
    "            if self.root is None:\n",
    "                return\n",
    "            q = deque([self.root])\n",
    "            while len(q) > 0:\n",
    "                node = q.popleft()\n",
    "                print(node.data, end=\",\")\n",
    "                if node.left:\n",
    "                    q.append(node.left)\n",
    "                if node.right:\n",
    "                    q.append(node.right)\n",
    "            print()\n",
    "            \n",
    "    def _preorder(self, node):\n",
    "        if node:\n",
    "            print(node.data, end=\",\")\n",
    "            self._preorder(node.left)\n",
    "            self._preorder(node.right)\n",
    "    def _postorder(self, node):\n",
    "        if node:\n",
    "            self._postorder(node.left)\n",
    "            self._postorder(node.right)\n",
    "            print(node.data, end=\",\")\n",
    "    def _inorder(self, node):\n",
    "        if node:\n",
    "            self._inorder(node.left)\n",
    "            print(node.data, end=\",\")\n",
    "            self._inorder(node.right)\n",
    "    def print(self, node, level=0, prefix=\"Root:\"):\n",
    "        if node is not None:\n",
    "            print(\"    \" * level + prefix + str(node.data))\n",
    "            if node.left:\n",
    "                self.print(node.left, level+1, prefix=\"L--\")\n",
    "            if node.right:\n",
    "                self.print(node.right, level+1, prefix=\"R--\")\n",
    "            \n",
    "tree = BinaryTree(1)\n",
    "tree.root.left = Node(2)\n",
    "tree.root.right = Node(3)\n",
    "tree.root.left.left = Node(4)\n",
    "tree.root.left.right = Node(5)\n",
    "\n",
    "tree.traverse(mode='bfs')\n",
    "tree.traverse(mode='preorder')\n",
    "tree.traverse(mode='inorder')\n",
    "tree.traverse(mode='postorder')\n",
    "\n",
    "tree.print(tree.root)"
   ]
  },
  {
   "cell_type": "markdown",
   "id": "c4c9fc15-2a14-42d2-ab13-69062969e431",
   "metadata": {},
   "source": [
    "## Binary Search Tree"
   ]
  },
  {
   "cell_type": "code",
   "execution_count": 104,
   "id": "a5d2fc39-b71b-40d6-9e0f-8dd511bf9460",
   "metadata": {},
   "outputs": [
    {
     "name": "stdout",
     "output_type": "stream",
     "text": [
      "3,5,7,10,15,\n"
     ]
    }
   ],
   "source": [
    "class BinarySearchTree(BinaryTree):\n",
    "    def __init__(self):\n",
    "        self.root = None\n",
    "\n",
    "    def insert(self, data):\n",
    "        if self.root == None:\n",
    "            self.root = Node(data)\n",
    "        else:\n",
    "            self._insert(self.root, data)\n",
    "\n",
    "    def _insert(self, node, data):\n",
    "        if data < node.data:\n",
    "            if node.left:\n",
    "                self._insert(node.left, data)\n",
    "            else:\n",
    "                node.left = Node(data)\n",
    "        else:\n",
    "            if node.right:\n",
    "                self._insert(node.right, data)\n",
    "            else:\n",
    "                node.right = Node(data)\n",
    "\n",
    "bst = BinarySearchTree()\n",
    "bst.insert(10)\n",
    "bst.insert(5)\n",
    "bst.insert(15)\n",
    "bst.insert(3)\n",
    "bst.insert(7)\n",
    "\n",
    "bst.traverse(mode='inorder')"
   ]
  },
  {
   "cell_type": "markdown",
   "id": "84f072e2-2055-4f66-ba00-2bf1d45b68c7",
   "metadata": {},
   "source": [
    "## AVL Tree (Self-Balancing BST)\n",
    "[GeekForGeek-AVL Tree Data Structure](https://www.geeksforgeeks.org/introduction-to-avl-tree/)"
   ]
  },
  {
   "cell_type": "code",
   "execution_count": 124,
   "id": "2b0a5e65-929b-4b19-a4e6-bbcfb34f7a00",
   "metadata": {},
   "outputs": [
    {
     "name": "stdout",
     "output_type": "stream",
     "text": [
      "Root:20\n",
      "    L--10\n",
      "    R--40\n",
      "        L--30\n",
      "        R--50\n"
     ]
    }
   ],
   "source": [
    "class AVLNode(Node):\n",
    "    def __init__(self, data):\n",
    "        self.left = None\n",
    "        self.right = None\n",
    "        self.data = data\n",
    "        self.height = 1 # every new node starts with height 1\n",
    "\n",
    "class AVLTree(BinaryTree):\n",
    "    def __init__(self):\n",
    "        self.root = None\n",
    "\n",
    "    def _height(self, node):\n",
    "        if not node:\n",
    "            return 0\n",
    "        return node.height\n",
    "\n",
    "    # difference of its left subtree and right subtree\n",
    "    def _get_balance(self, node):\n",
    "        if not node:\n",
    "            return 0\n",
    "        return self._height(node.left) - self._height(node.right)\n",
    "\n",
    "    def _right_rotate(self, node):\n",
    "        X = node.left\n",
    "        XR = X.right\n",
    "        \n",
    "        X.right = node\n",
    "        node.left = XR\n",
    "\n",
    "        node.height = 1 + max(self._height(node.left), self._height(node.right))\n",
    "        X.height = 1 + max(self._height(X.left), self._height(X.right))\n",
    "\n",
    "        return X\n",
    "\n",
    "    def _left_rotate(self, node):\n",
    "        X = node.right\n",
    "        XL = X.left\n",
    "\n",
    "        X.left = node\n",
    "        node.right = XL\n",
    "        \n",
    "        node.height = 1 + max(self._height(node.left), self._height(node.right))\n",
    "        X.height = 1 + max(self._height(X.left), self._height(X.right))\n",
    "\n",
    "        return X\n",
    "\n",
    "    def _avlinsert(self, root, data):\n",
    "        if root is None:\n",
    "            return AVLNode(data)\n",
    "        else:\n",
    "            if data < root.data:\n",
    "                root.left = self._avlinsert(root.left, data)\n",
    "            else:\n",
    "                root.right = self._avlinsert(root.right, data)\n",
    "\n",
    "        # update height\n",
    "        root.height = 1 + max(self._height(root.left), self._height(root.right))\n",
    "        balance = self._get_balance(root)\n",
    "\n",
    "        if balance > 1:\n",
    "\n",
    "            if data < root.left.data:\n",
    "                # right rotation\n",
    "                return self._right_rotate(root)\n",
    "            else:\n",
    "                # left-right rotation\n",
    "                root.left = self._left_rotate(root.left)\n",
    "                return self._right_rotate(root)\n",
    "\n",
    "        elif balance < -1:\n",
    "\n",
    "            if data > root.right.data:\n",
    "                # left rotation\n",
    "                return self._left_rotate(root)\n",
    "            else:\n",
    "                # right-left rotation\n",
    "                root.right = self._right_rotate(root.right)\n",
    "                return self.left_rotate(root)\n",
    "        else:\n",
    "            return root\n",
    "\n",
    "    def avl_insert(self, data):\n",
    "        self.root = self._avlinsert(self.root, data)\n",
    "\n",
    "tree = AVLTree()\n",
    "tree.avl_insert(10)\n",
    "tree.avl_insert(20)\n",
    "tree.avl_insert(30)\n",
    "tree.avl_insert(40)\n",
    "tree.avl_insert(50)\n",
    "\n",
    "tree.print(tree.root)"
   ]
  },
  {
   "cell_type": "markdown",
   "id": "408bf8cf-586f-4c9b-9c87-88c79c203026",
   "metadata": {},
   "source": [
    "## Red-Black Tree\n",
    "[https://www.geeksforgeeks.org/introduction-to-red-black-tree/](https://www.geeksforgeeks.org/introduction-to-red-black-tree/)  \n",
    "[Youtube| Red-black trees in 4 minutes](https://www.youtube.com/watch?v=qvZGUFHWChY&list=PL9xmBV_5YoZNqDI8qfOZgzbqahCUmUEin)\n",
    "\n",
    "### Comparison with AVL Tree:\n",
    "The AVL trees are more balanced compared to Red-Black Trees, but they may cause more rotations during insertion and deletion. So if your application involves frequent insertions and deletions, then Red-Black trees should be preferred. And if the insertions and deletions are less frequent and search is a more frequent operation, then AVL tree should be preferred over the Red-Black Tree."
   ]
  },
  {
   "cell_type": "markdown",
   "id": "058a600e-94b3-42d6-87c8-a2a9be94fe75",
   "metadata": {},
   "source": [
    "## Trie (Prefix Tree)"
   ]
  },
  {
   "cell_type": "markdown",
   "id": "2056021f-8ace-4514-be9b-fbeab4e4ab01",
   "metadata": {},
   "source": [
    "# Graph\n",
    "\n",
    "There are multiple ways of representing graph structure in Python:  \n",
    "* dict: adjacency list (key: the node, value: list of connected list)\n",
    "* 2D matrix: 2D matrix\n",
    "* list of tuple: each tuple represents an edge (less common, but may be served as function inputs)\n",
    "\n",
    "Types of Graphs:\n",
    "* directed or undirected\n",
    "* weighted or unweighted"
   ]
  },
  {
   "cell_type": "code",
   "execution_count": 17,
   "id": "3c6d03f3-b269-4c0b-933e-b20c5973841f",
   "metadata": {},
   "outputs": [
    {
     "name": "stdout",
     "output_type": "stream",
     "text": [
      "{'1': {'2': 1, '3': 1}, '2': {'1': 1, '3': 1}, '3': {'2': 1, '1': 1, '4': 1}, '4': {'3': 1}}\n",
      "3,2,1,4,3,2,1,4,{'1': {'2': 1}, '2': {'1': 1}, '4': {}}\n"
     ]
    }
   ],
   "source": [
    "# implement a graph using dictionary\n",
    "\n",
    "'''\n",
    "{\n",
    "    'a': {\n",
    "        'b': _weight_,\n",
    "        'c': _weight_,\n",
    "    },\n",
    "    'b': {\n",
    "        'c': _weight_\n",
    "    }\n",
    "}\n",
    "'''\n",
    "from collections import deque\n",
    "class GraphDict:\n",
    "    def __init__(self, weighted = False, directed = False):\n",
    "        self._data = dict()\n",
    "        self.weighted = weighted\n",
    "        self.directed = directed\n",
    "\n",
    "    def add_node(self, node, weight=None):\n",
    "        if node not in self._data:\n",
    "            self._data[node] = {}\n",
    "\n",
    "    def remove_node(self, node):\n",
    "        if node in self._data.keys():\n",
    "            del self._data[node]\n",
    "            for other in self._data.keys():\n",
    "                if node in self._data[other]:\n",
    "                    del self._data[other][node]\n",
    "\n",
    "    def add_edge(self, from_n, to_n, weight=None):\n",
    "        self.add_node(from_n)\n",
    "        self.add_node(to_n)\n",
    "\n",
    "        w = 1\n",
    "        if self.weighted:\n",
    "            w = weight\n",
    "\n",
    "        self._data[from_n][to_n] = w\n",
    "        if not self.directed:\n",
    "            self._data[to_n][from_n] = w\n",
    "\n",
    "    def remove_edge(self, from_n, to_n):\n",
    "        if from_n not in self._data or to_n not in self._data:\n",
    "            return\n",
    "        del self._data[from_n][to_n]\n",
    "        if not self.directed:\n",
    "            del self._data[to_n][from_n]\n",
    "\n",
    "    def dfs(self, start, visited=None):\n",
    "        if visited is None:\n",
    "            visited = set()\n",
    "        if start in visited:\n",
    "            return\n",
    "        else:\n",
    "            visited.add(start)\n",
    "        print(start, end=\",\")\n",
    "        for connected in self._data[start].keys():\n",
    "            self.dfs(connected, visited)\n",
    "\n",
    "    def bfs(self, start):\n",
    "        dq = deque()\n",
    "        visited = set()\n",
    "\n",
    "        dq.append(start)\n",
    "        while len(dq) > 0:\n",
    "            node = dq.popleft()\n",
    "            if node in visited:\n",
    "                continue\n",
    "            else:\n",
    "                visited.add(node)\n",
    "            print(node, end=\",\")\n",
    "            for k in self._data[node].keys():\n",
    "                dq.append(k)\n",
    "    \n",
    "    def display(self):\n",
    "        print(self._data)\n",
    "\n",
    "g = GraphDict(weighted = False, directed = False)\n",
    "\n",
    "g.add_edge('1', '2')\n",
    "g.add_edge('2', '3')\n",
    "g.add_edge('1', '3')\n",
    "g.add_edge('3', '4')\n",
    "g.display()\n",
    "g.dfs('3')\n",
    "g.bfs('3')\n",
    "\n",
    "g.remove_node('3')\n",
    "g.display()"
   ]
  },
  {
   "cell_type": "code",
   "execution_count": 3,
   "id": "4b7805c7-9aae-4ed8-a642-901ced97e2f4",
   "metadata": {},
   "outputs": [],
   "source": [
    "# implement a graph using matrix"
   ]
  },
  {
   "cell_type": "markdown",
   "id": "065e491e-a1f5-4185-a67c-ee08852f489f",
   "metadata": {},
   "source": [
    "# Heap / Priority Queue\n",
    "\n",
    "using built-in library `heapq`  \n",
    "* support only min heap (lowest number on root)\n",
    "* to turn it into max-heap, reverse all numbers"
   ]
  },
  {
   "cell_type": "code",
   "execution_count": 20,
   "id": "d2918b99-640c-4384-bd42-6be6074b2191",
   "metadata": {},
   "outputs": [
    {
     "name": "stdout",
     "output_type": "stream",
     "text": [
      "[5, 7, 10]\n",
      "[2, 4, 12, 5, 14]\n"
     ]
    }
   ],
   "source": [
    "import heapq\n",
    "\n",
    "heap = []\n",
    "heapq.heappush(heap, 10)\n",
    "heapq.heappush(heap, 3)\n",
    "heapq.heappush(heap, 5)\n",
    "heapq.heappush(heap, 7)\n",
    "smallest = heapq.heappop(heap)\n",
    "print(heap)\n",
    "\n",
    "arr = [12, 4, 2, 5, 14]\n",
    "heapq.heapify(arr)\n",
    "print(arr)"
   ]
  },
  {
   "cell_type": "code",
   "execution_count": 23,
   "id": "097759de-0086-4296-9b0e-760f7bbae389",
   "metadata": {},
   "outputs": [
    {
     "name": "stdout",
     "output_type": "stream",
     "text": [
      "[2, 4, 15, 10, 8]\n"
     ]
    }
   ],
   "source": [
    "# core concepts: insert new item, remove top item, heapify an array\n",
    "class MinHeap:\n",
    "    def __init__(self):\n",
    "        self._data = []\n",
    "    def parent(self, i):\n",
    "        return (i-1) // 2\n",
    "    def left_child(self, i):\n",
    "        return i*2+1\n",
    "    def right_child(self, i):\n",
    "        return i*2+2\n",
    "    def append(self, key):\n",
    "        self._data.append(key)\n",
    "        self._bubble_up(len(self._data)-1) # fix the heap property for this subtree\n",
    "    def _bubble_up(self, index):\n",
    "        i = index\n",
    "        while i != 0:\n",
    "            if self._data[self.parent(i)] > self._data[i]:\n",
    "                # swap\n",
    "                self._data[self.parent(i)], self._data[i] = self._data[i], self._data[self.parent(i)]\n",
    "                # index go up\n",
    "                i = self.parent(i)\n",
    "            else:\n",
    "                break\n",
    "\n",
    "    def pop(self):\n",
    "        ans = None\n",
    "        if len(self._data) == 1:\n",
    "            ans = self._data.pop()\n",
    "        elif len(self._data) > 1:\n",
    "            ans = self._data[0]\n",
    "\n",
    "            # fix the heap property from top to bottom\n",
    "            self._data[0] = self._data.pop()\n",
    "            self._bubble_down(0)\n",
    "            return ans\n",
    "\n",
    "    def _bubble_down(self, index):\n",
    "        smallest_i = index\n",
    "        li = self.left_child(index)\n",
    "        ri = self.right_child(index)\n",
    "\n",
    "        if li < len(self._data) and self._data[li] < self._data[smallest_i]:\n",
    "            smallest_i = li\n",
    "        if ri < len(self._data) and self._data[ri] < self._data[smallest_i]:\n",
    "            smallest_i = ri\n",
    "        if smallest_i != index:\n",
    "            # swap\n",
    "            self._data[smallest_i], self._data[index] = self._data[index], self._data[smallest_i]\n",
    "            self._bubble_down(smallest_i)\n",
    "\n",
    "heap = MinHeap()\n",
    "heap.append(10)\n",
    "heap.append(4)\n",
    "heap.append(15)\n",
    "heap.append(2)\n",
    "heap.append(8)\n",
    "\n",
    "print(heap._data)"
   ]
  },
  {
   "cell_type": "code",
   "execution_count": 27,
   "id": "e5fe1af4-3b99-4e9b-aa3f-486950b27d11",
   "metadata": {},
   "outputs": [
    {
     "name": "stdout",
     "output_type": "stream",
     "text": [
      "[1, 3, 2, 9, 4, 5]\n"
     ]
    }
   ],
   "source": [
    "def heapify(arr):\n",
    "    N = len(arr)\n",
    "    for i in range(N//2 - 1, -1, -1):\n",
    "        smallest = i\n",
    "        lc = i*2 + 1\n",
    "        rc = i*2 + 2\n",
    "\n",
    "        if lc < N and arr[lc] < arr[smallest]:\n",
    "            smallest = lc\n",
    "        if rc < N and arr[lc] < arr[smallest]:\n",
    "            smallest = rc\n",
    "        if smallest != i:\n",
    "            arr[i], arr[smallest] = arr[smallest], arr[i]\n",
    "\n",
    "arr = [3, 9, 2, 1, 4, 5]\n",
    "heapify(arr)\n",
    "print(arr)"
   ]
  },
  {
   "cell_type": "code",
   "execution_count": null,
   "id": "4195757d-2a11-402b-9b35-4ed3d7482920",
   "metadata": {},
   "outputs": [],
   "source": []
  }
 ],
 "metadata": {
  "kernelspec": {
   "display_name": "Python 3 (ipykernel)",
   "language": "python",
   "name": "python3"
  },
  "language_info": {
   "codemirror_mode": {
    "name": "ipython",
    "version": 3
   },
   "file_extension": ".py",
   "mimetype": "text/x-python",
   "name": "python",
   "nbconvert_exporter": "python",
   "pygments_lexer": "ipython3",
   "version": "3.11.7"
  }
 },
 "nbformat": 4,
 "nbformat_minor": 5
}
